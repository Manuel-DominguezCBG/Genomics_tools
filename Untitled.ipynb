{
 "cells": [
  {
   "cell_type": "code",
   "execution_count": 12,
   "id": "8e1ed5a2",
   "metadata": {},
   "outputs": [],
   "source": [
    "import sys"
   ]
  },
  {
   "cell_type": "code",
   "execution_count": 23,
   "id": "b3ef99a2",
   "metadata": {},
   "outputs": [],
   "source": [
    "'''\n",
    "Read bed files and store data in a dict\n",
    "Created by Manuel Dominguez\n",
    "'''\n",
    "class Read_file():\n",
    "    '''\n",
    "    Load bed data\n",
    "    '''\n",
    "    def __init__(self, file_path): \n",
    "        self.file_path = file_path\n",
    "\n",
    "    def load_data(self):\n",
    "        '''Load data from file\n",
    "        Create a empty dict\n",
    "        open the file and read line by line\n",
    "        Recognise the lines that contains the data\n",
    "        split this lines and save this in chromosomes, start and end positions\n",
    "        Per iteration, store interger position in a list\n",
    "        save these lists in the chromosome that belong to\n",
    "        Return a dict\n",
    "        'chr1': [[1, 2], [3, 4], [5, 6], [7, 8]], 'chr20': [[1, 2], [3, 4]] ...\n",
    "        '''\n",
    "        chr2position = {}\n",
    "        with open(self.file_path) as f:\n",
    "            for line in f.readlines():\n",
    "                star_end_list = []\n",
    "                if line.startswith(('chr',\"1\",\"2\",\"3\",\"4\",\"5\",\"6\",\"7\",\"8\",\"9\",\"10\",\"11\",\"12\",\"13\",\"14\",\"15\",\"16\",\"17\",\"18\",\"19\",\"20\",\"21\",\"Y\",\"X\")):\n",
    "                    assert (len(line.split())) >= 3, 'Growth Rate is not between 0 and 100'\n",
    "                    \n",
    "                    print\n",
    "                    chr, start, end = line.split()[:3]\n",
    "                    try:\n",
    "                        star_end_list = [int(start), int(end)]\n",
    "                    except: \n",
    "                        print(\"Don't pass validation. End or start position are not interger\",start, end)\n",
    "                    if chr in chr2position.keys():\n",
    "                        chr2position[chr].append(star_end_list)\n",
    "                    else:\n",
    "                        chr2position[chr] = [star_end_list]\n",
    "        return chr2position\n"
   ]
  },
  {
   "cell_type": "code",
   "execution_count": 24,
   "id": "16d8375b",
   "metadata": {},
   "outputs": [
    {
     "name": "stdout",
     "output_type": "stream",
     "text": [
      "Don't pass validation. End or start position are not interger \"1\" 2\n"
     ]
    }
   ],
   "source": [
    "\n",
    "\n",
    "bed_data = Read_file(\"/Users/monkiky/Desktop/Genomics_tools/BED_toolkit/test/file2test2.bed\")\n",
    "data_loaded = bed_data.load_data()"
   ]
  },
  {
   "cell_type": "code",
   "execution_count": 4,
   "id": "1adec829",
   "metadata": {},
   "outputs": [
    {
     "ename": "AttributeError",
     "evalue": "'Read_file' object has no attribute 'values'",
     "output_type": "error",
     "traceback": [
      "\u001b[0;31m---------------------------------------------------------------------------\u001b[0m",
      "\u001b[0;31mAttributeError\u001b[0m                            Traceback (most recent call last)",
      "\u001b[0;32m/var/folders/_t/g1ll2tvd31jdzk4zg05x4np00000gn/T/ipykernel_5273/981594997.py\u001b[0m in \u001b[0;36m<module>\u001b[0;34m\u001b[0m\n\u001b[1;32m      1\u001b[0m \u001b[0;31m# Check if Start and End  are interger\u001b[0m\u001b[0;34m\u001b[0m\u001b[0;34m\u001b[0m\u001b[0m\n\u001b[1;32m      2\u001b[0m \u001b[0mcount_lines\u001b[0m \u001b[0;34m=\u001b[0m \u001b[0;36m0\u001b[0m\u001b[0;34m\u001b[0m\u001b[0;34m\u001b[0m\u001b[0m\n\u001b[0;32m----> 3\u001b[0;31m \u001b[0;32mfor\u001b[0m \u001b[0ml1\u001b[0m \u001b[0;32min\u001b[0m \u001b[0mbed_data\u001b[0m\u001b[0;34m.\u001b[0m\u001b[0mvalues\u001b[0m\u001b[0;34m(\u001b[0m\u001b[0;34m)\u001b[0m\u001b[0;34m:\u001b[0m\u001b[0;34m\u001b[0m\u001b[0;34m\u001b[0m\u001b[0m\n\u001b[0m\u001b[1;32m      4\u001b[0m    \u001b[0;32mfor\u001b[0m \u001b[0ml2\u001b[0m \u001b[0;32min\u001b[0m \u001b[0ml1\u001b[0m\u001b[0;34m:\u001b[0m\u001b[0;34m\u001b[0m\u001b[0;34m\u001b[0m\u001b[0m\n\u001b[1;32m      5\u001b[0m        \u001b[0mcount_lines\u001b[0m \u001b[0;34m+=\u001b[0m\u001b[0;36m1\u001b[0m\u001b[0;34m\u001b[0m\u001b[0;34m\u001b[0m\u001b[0m\n",
      "\u001b[0;31mAttributeError\u001b[0m: 'Read_file' object has no attribute 'values'"
     ]
    }
   ],
   "source": [
    " # Check if Start and End  are interger\n",
    "count_lines = 0\n",
    "for l1 in bed_data.values():\n",
    "    for l2 in l1:\n",
    "        count_lines +=1\n",
    "        for e in l2:\n",
    "            assert isinstance(e, int), f\"Values of the dictionnary aren't lists of integers. Assert found in line number  '{count_lines}' of the bed file.\"\n",
    "            "
   ]
  },
  {
   "cell_type": "code",
   "execution_count": 7,
   "id": "f0af124b",
   "metadata": {},
   "outputs": [
    {
     "ename": "Exception",
     "evalue": "x should not exceed 5. The value of x was: 10",
     "output_type": "error",
     "traceback": [
      "\u001b[0;31m---------------------------------------------------------------------------\u001b[0m",
      "\u001b[0;31mException\u001b[0m                                 Traceback (most recent call last)",
      "\u001b[0;32m/var/folders/_t/g1ll2tvd31jdzk4zg05x4np00000gn/T/ipykernel_5273/1588458212.py\u001b[0m in \u001b[0;36m<module>\u001b[0;34m\u001b[0m\n\u001b[1;32m      1\u001b[0m \u001b[0mx\u001b[0m \u001b[0;34m=\u001b[0m \u001b[0;36m10\u001b[0m\u001b[0;34m\u001b[0m\u001b[0;34m\u001b[0m\u001b[0m\n\u001b[1;32m      2\u001b[0m \u001b[0;32mif\u001b[0m \u001b[0mx\u001b[0m \u001b[0;34m>\u001b[0m \u001b[0;36m5\u001b[0m\u001b[0;34m:\u001b[0m\u001b[0;34m\u001b[0m\u001b[0;34m\u001b[0m\u001b[0m\n\u001b[0;32m----> 3\u001b[0;31m     \u001b[0;32mraise\u001b[0m \u001b[0mException\u001b[0m\u001b[0;34m(\u001b[0m\u001b[0;34m'x should not exceed 5. The value of x was: {}'\u001b[0m\u001b[0;34m.\u001b[0m\u001b[0mformat\u001b[0m\u001b[0;34m(\u001b[0m\u001b[0mx\u001b[0m\u001b[0;34m)\u001b[0m\u001b[0;34m)\u001b[0m\u001b[0;34m\u001b[0m\u001b[0;34m\u001b[0m\u001b[0m\n\u001b[0m",
      "\u001b[0;31mException\u001b[0m: x should not exceed 5. The value of x was: 10"
     ]
    }
   ],
   "source": [
    "x = 10\n",
    "if x > 5:\n",
    "    raise Exception('x should not exceed 5. The value of x was: {}'.format(x))"
   ]
  },
  {
   "cell_type": "code",
   "execution_count": null,
   "id": "d396f9c3",
   "metadata": {},
   "outputs": [],
   "source": []
  }
 ],
 "metadata": {
  "kernelspec": {
   "display_name": "Python 3 (ipykernel)",
   "language": "python",
   "name": "python3"
  },
  "language_info": {
   "codemirror_mode": {
    "name": "ipython",
    "version": 3
   },
   "file_extension": ".py",
   "mimetype": "text/x-python",
   "name": "python",
   "nbconvert_exporter": "python",
   "pygments_lexer": "ipython3",
   "version": "3.9.7"
  }
 },
 "nbformat": 4,
 "nbformat_minor": 5
}
